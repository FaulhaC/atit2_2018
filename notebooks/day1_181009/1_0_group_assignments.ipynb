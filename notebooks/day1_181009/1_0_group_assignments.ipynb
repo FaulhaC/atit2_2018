{
 "cells": [
  {
   "cell_type": "code",
   "execution_count": null,
   "metadata": {},
   "outputs": [],
   "source": [
    "import numpy as np"
   ]
  },
  {
   "cell_type": "code",
   "execution_count": null,
   "metadata": {},
   "outputs": [],
   "source": [
    "# lists of people\n",
    "\n",
    "sap = [\n",
    "    \"Baum\",\n",
    "    \"Falke\",\n",
    "    \"Gahre\",\n",
    "    \"Geißler\",\n",
    "    \"Gier\",\n",
    "    \"Joormann\",\n",
    "    \"Krieger\",\n",
    "    \"Martin\",\n",
    "    \"Rickards\",\n",
    "    \"Schröer\",\n",
    "]\n",
    "non_sap = [\n",
    "    \"Amasheh\",\n",
    "    \"Cebulla\",\n",
    "    \"Faulhaber\",\n",
    "    \"Janz\",\n",
    "    \"Lebrecht\",\n",
    "    \"Ngo\",\n",
    "    \"Schnitzler\",\n",
    "    \"Spanagel\",\n",
    "    \"Trott\",\n",
    "    \"Weiss\",  \n",
    "]"
   ]
  },
  {
   "cell_type": "code",
   "execution_count": null,
   "metadata": {},
   "outputs": [],
   "source": [
    "# sanity checks\n",
    "\n",
    "is_same_length = len(sap) == len(non_sap)\n",
    "has_unique_names = len(non_sap) == len(set(non_sap)) and len(sap) == len(set(sap))\n",
    "\n",
    "print(is_same_length)\n",
    "print(has_unique_names)"
   ]
  },
  {
   "cell_type": "code",
   "execution_count": null,
   "metadata": {},
   "outputs": [],
   "source": [
    "# permutation how to\n",
    "i = np.arange(10)\n",
    "i_perm = np.random.permutation(i)\n",
    "i_perm"
   ]
  },
  {
   "cell_type": "code",
   "execution_count": null,
   "metadata": {},
   "outputs": [],
   "source": [
    "# vectorize\n",
    "v_sap = np.array(sap)\n",
    "v_non_sap = np.array(non_sap)\n",
    "\n",
    "v_non_sap"
   ]
  },
  {
   "cell_type": "code",
   "execution_count": null,
   "metadata": {},
   "outputs": [],
   "source": [
    "# concat\n",
    "groups = np.stack([v_non_sap, v_sap], axis=1)\n",
    "print(\"shape:\", groups.shape)\n",
    "groups\n"
   ]
  },
  {
   "cell_type": "code",
   "execution_count": null,
   "metadata": {},
   "outputs": [],
   "source": [
    "# indexing\n",
    "print(\"first non_sap:\", groups[0, 0])\n",
    "print(\"all non_sap:\", groups[:, 0])\n",
    "print(\"last group:\", groups[-1, :])\n",
    "print()\n",
    "print(\"first, 4th and last non_sap:\", groups[:, 0][[0, 5, -1]])"
   ]
  },
  {
   "cell_type": "code",
   "execution_count": null,
   "metadata": {},
   "outputs": [],
   "source": [
    "# randomize - caution, this is just a demo\n",
    "i_perm_left = np.random.permutation(i)\n",
    "groups[:, 0] = groups[:, 0][i_perm_left]\n",
    "i_perm_right = np.random.permutation(i)\n",
    "groups[:, 1] = groups[:, 1][i_perm_right]\n",
    "\n",
    "groups"
   ]
  },
  {
   "cell_type": "code",
   "execution_count": null,
   "metadata": {},
   "outputs": [],
   "source": [
    "# one-liner\n",
    "groups = np.array([sap, non_sap]).transpose()\n",
    "groups = np.random.permutation(groups)\n",
    "groups"
   ]
  },
  {
   "cell_type": "code",
   "execution_count": null,
   "metadata": {},
   "outputs": [],
   "source": []
  }
 ],
 "metadata": {
  "kernelspec": {
   "display_name": "Python 3",
   "language": "python",
   "name": "python3"
  },
  "language_info": {
   "codemirror_mode": {
    "name": "ipython",
    "version": 3
   },
   "file_extension": ".py",
   "mimetype": "text/x-python",
   "name": "python",
   "nbconvert_exporter": "python",
   "pygments_lexer": "ipython3",
   "version": "3.6.6"
  }
 },
 "nbformat": 4,
 "nbformat_minor": 2
}
